{
 "cells": [
  {
   "cell_type": "code",
   "execution_count": null,
   "id": "86e403f7",
   "metadata": {},
   "outputs": [],
   "source": [
    "# Inference for Software Engineering Bug Reporting\n",
    "\n",
    "## Dataset's  A streaming service, WebFlix, delivers its content through several channels:\n",
    "## iOS app, Android app, Roku app, Fire TV app and web browsers. Each channel is managed by a different software engineering team. The engineering teams track the number of bugs reported each week and monitors patterns. Management of the Web team identified a worrying upwards trend in the number of bugs reported and provided training to the team in May 2020 to address the problem."
   ]
  },
  {
   "cell_type": "code",
   "execution_count": null,
   "id": "f3c7c5e3",
   "metadata": {},
   "outputs": [],
   "source": [
    "import pandas as pd\n",
    "import warnings\n",
    "warnings.filterwarnings('ignore')\n",
    "import seaborn as sns \n",
    "import matplotlib.pyplot as plt\n",
    "import numpy as np\n",
    "import datetime as dt\n",
    "from causalimpact import CausalImpact"
   ]
  },
  {
   "cell_type": "code",
   "execution_count": null,
   "id": "a423749b",
   "metadata": {},
   "outputs": [],
   "source": [
    "# Import the bug tracking data and change the date field to date type.\n",
    "df = pd.read_csv('bugs.csv')\n",
    "df['date'] = pd.to_datetime(df['date'], format='%m/%d/%Y')"
   ]
  },
  {
   "cell_type": "code",
   "execution_count": null,
   "id": "679dfdcd",
   "metadata": {},
   "outputs": [],
   "source": [
    "df.info()"
   ]
  },
  {
   "cell_type": "code",
   "execution_count": null,
   "id": "92d477d7",
   "metadata": {},
   "outputs": [],
   "source": [
    "# Subset for the bug reports for the Web software engineering team.\n",
    "df_web = df[df['channel'] == 'Web']\n",
    "df_web.head()"
   ]
  },
  {
   "cell_type": "code",
   "execution_count": null,
   "id": "de687370",
   "metadata": {},
   "outputs": [],
   "source": [
    "# Plot the bugs reported for the Web team during 2020.\n",
    "sns.set_theme(style='darkgrid')\n",
    "plt.figure(figsize=(15,8))\n",
    "\n",
    "s = sns.lineplot(data=df_web, x=\"date\", y='bugs', linewidth=1)\n",
    "s.set_title('Number of Bugs Reported for Web Software Engineering Team by Week in 2020', y=1.02, fontsize=15)\n",
    "s.set_xlabel('Date', fontsize=14, labelpad=15)\n",
    "s.set_ylabel('Frequency', fontsize=14, labelpad=15)\n",
    "plt.axvline(dt.datetime(2020,5, 25), color='r', linewidth=1, linestyle='--')\n",
    "plt.show()"
   ]
  },
  {
   "cell_type": "code",
   "execution_count": null,
   "id": "79fd5f52",
   "metadata": {},
   "outputs": [],
   "source": [
    "# Plot the bugs reported for all software engineering teams during 2020.\n",
    "sns.set_theme(style='darkgrid')\n",
    "plt.figure(figsize=(15,8))\n",
    "\n",
    "s = sns.lineplot(data=df, x=\"date\", y='bugs', hue='channel', linewidth=1, palette='cool')\n",
    "s.set_title('Number of Bugs Reported for All Software Engineering Teams by Week in 2020', y=1.02, fontsize=15)\n",
    "s.set_xlabel('Date', fontsize=14, labelpad=15)\n",
    "s.set_ylabel('Frequency', fontsize=14, labelpad=15)\n",
    "plt.axvline(dt.datetime(2020,5,25), color='r', linewidth=1, linestyle='--')\n",
    "plt.show()"
   ]
  },
  {
   "cell_type": "code",
   "execution_count": null,
   "id": "12070b78",
   "metadata": {},
   "outputs": [],
   "source": [
    "# Convert the dataframe into a wide form using a pivot table.\n",
    "df_piv = pd.pivot_table(df, values='bugs', index='date', columns='channel', aggfunc=np.sum)\n",
    "\n",
    "# Position the Web column as the first column. since it is our Y.  All other columns are our X.\n",
    "df_piv = df_piv[['Web', 'Android', 'iOS', 'Roku', 'Fire TV']]\n",
    "df_piv.head()"
   ]
  },
  {
   "cell_type": "code",
   "execution_count": null,
   "id": "decfc088",
   "metadata": {},
   "outputs": [],
   "source": [
    "# Flatten the pivot table and set the index of the dataframe to the date column. \n",
    "df_flattened = pd.DataFrame(df_piv.to_records()).reset_index(drop=True)\n",
    "df_flattened = df_flattened.set_index('date')\n",
    "df_flattened.head()"
   ]
  },
  {
   "cell_type": "code",
   "execution_count": null,
   "id": "747cef49",
   "metadata": {},
   "outputs": [],
   "source": [
    "# Set the pre_period for the model to the dates prior to the delivery of training of the Web software\n",
    "# engineering team, and the post_period to the datesafter the training.\n",
    "pre_period = ['20200106', '20200525']\n",
    "post_period = ['20200601', '20201228']\n",
    "\n",
    "# Run the model and display the results.\n",
    "ci = CausalImpact(df_flattened, pre_period, post_period, prior_level_sd=None)"
   ]
  },
  {
   "cell_type": "code",
   "execution_count": null,
   "id": "62dd7d50",
   "metadata": {},
   "outputs": [],
   "source": [
    "ci.plot(panels=['original'], figsize=(16,4))\n"
   ]
  },
  {
   "cell_type": "code",
   "execution_count": null,
   "id": "b4a3bf38",
   "metadata": {},
   "outputs": [],
   "source": [
    "ci.plot(panels=['pointwise'], figsize=(16,4))\n"
   ]
  },
  {
   "cell_type": "code",
   "execution_count": null,
   "id": "f020e9cf",
   "metadata": {},
   "outputs": [],
   "source": [
    "ci.plot(panels=['cumulative'], figsize=(16,4))\n"
   ]
  },
  {
   "cell_type": "code",
   "execution_count": null,
   "id": "f4b8e59c",
   "metadata": {},
   "outputs": [],
   "source": [
    "# Display model summary output.\n",
    "print(ci.summary())"
   ]
  },
  {
   "cell_type": "code",
   "execution_count": null,
   "id": "729605f9",
   "metadata": {},
   "outputs": [],
   "source": [
    "# Display model analysis report.\n",
    "print(ci.summary(output='report'))"
   ]
  },
  {
   "cell_type": "code",
   "execution_count": null,
   "id": "9614c544",
   "metadata": {},
   "outputs": [],
   "source": []
  }
 ],
 "metadata": {
  "kernelspec": {
   "display_name": "Python 3 (ipykernel)",
   "language": "python",
   "name": "python3"
  },
  "language_info": {
   "codemirror_mode": {
    "name": "ipython",
    "version": 3
   },
   "file_extension": ".py",
   "mimetype": "text/x-python",
   "name": "python",
   "nbconvert_exporter": "python",
   "pygments_lexer": "ipython3",
   "version": "3.10.6"
  }
 },
 "nbformat": 4,
 "nbformat_minor": 5
}
